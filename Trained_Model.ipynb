{
 "cells": [
  {
   "cell_type": "code",
   "execution_count": 1,
   "id": "680bd479",
   "metadata": {},
   "outputs": [],
   "source": [
    "import keras"
   ]
  },
  {
   "cell_type": "code",
   "execution_count": 2,
   "id": "2a6f1d7e",
   "metadata": {},
   "outputs": [],
   "source": [
    "from keras.datasets import mnist"
   ]
  },
  {
   "cell_type": "code",
   "execution_count": 3,
   "id": "6422bc06",
   "metadata": {},
   "outputs": [],
   "source": [
    "from keras.models import Sequential"
   ]
  },
  {
   "cell_type": "code",
   "execution_count": 4,
   "id": "7fa198ea",
   "metadata": {},
   "outputs": [],
   "source": [
    "from keras.layers import Dense, Dropout, Flatten"
   ]
  },
  {
   "cell_type": "code",
   "execution_count": 5,
   "id": "f6a62d96",
   "metadata": {},
   "outputs": [],
   "source": [
    "from keras.layers import Conv2D, MaxPooling2D"
   ]
  },
  {
   "cell_type": "code",
   "execution_count": 6,
   "id": "1f4b12eb",
   "metadata": {},
   "outputs": [],
   "source": [
    "from keras import backend as K"
   ]
  },
  {
   "cell_type": "markdown",
   "id": "4ad7ac01",
   "metadata": {},
   "source": [
    "# Loading the testing and training dataset"
   ]
  },
  {
   "cell_type": "code",
   "execution_count": 7,
   "id": "3759c59d",
   "metadata": {},
   "outputs": [],
   "source": [
    "(x_train, y_train), (x_test, y_test) = mnist.load_data()"
   ]
  },
  {
   "cell_type": "code",
   "execution_count": 8,
   "id": "c90831fe",
   "metadata": {},
   "outputs": [
    {
     "name": "stdout",
     "output_type": "stream",
     "text": [
      "(60000, 28, 28) (60000,)\n"
     ]
    }
   ],
   "source": [
    "# Checking the dimensions of the images of our dataset\n",
    "\n",
    "print(x_train.shape, y_train.shape)"
   ]
  },
  {
   "cell_type": "code",
   "execution_count": 9,
   "id": "953aeea3",
   "metadata": {},
   "outputs": [],
   "source": [
    "# reshaping the data to make sure that Keras is able to read it and use it effectively\n",
    "\n",
    "x_train = x_train.reshape(60000, 28, 28, 1)"
   ]
  },
  {
   "cell_type": "code",
   "execution_count": 10,
   "id": "32a5caf9",
   "metadata": {},
   "outputs": [],
   "source": [
    "x_test = x_test.reshape(10000, 28, 28, 1)"
   ]
  },
  {
   "cell_type": "code",
   "execution_count": 11,
   "id": "2e407a8a",
   "metadata": {},
   "outputs": [],
   "source": [
    "input_shape = (28, 28, 1)"
   ]
  },
  {
   "cell_type": "code",
   "execution_count": 12,
   "id": "a4c120fc",
   "metadata": {},
   "outputs": [],
   "source": [
    "# Converting our class vector into a matrix (integers from 0 to num_classes)\n",
    "\n",
    "y_train = keras.utils.to_categorical(y_train, 10)"
   ]
  },
  {
   "cell_type": "code",
   "execution_count": 13,
   "id": "9c5bf4b9",
   "metadata": {},
   "outputs": [],
   "source": [
    "y_test = keras.utils.to_categorical(y_test, 10)"
   ]
  },
  {
   "cell_type": "code",
   "execution_count": 14,
   "id": "ed0713a7",
   "metadata": {},
   "outputs": [],
   "source": [
    "# Casting pandas object into float\n",
    "\n",
    "x_train = x_train.astype('float32')"
   ]
  },
  {
   "cell_type": "code",
   "execution_count": 15,
   "id": "ea0cd579",
   "metadata": {},
   "outputs": [],
   "source": [
    "x_test = x_test.astype('float32')"
   ]
  },
  {
   "cell_type": "code",
   "execution_count": 34,
   "id": "afbba8e0",
   "metadata": {},
   "outputs": [],
   "source": [
    "# Since as per RGB values our pixel values may range from 0 to 255 but if we will divide our pixels with 255 then our model\n",
    "# become more 0 centered and we will get values in between 0 and 1 by which our activaton function will work faster\n",
    "\n",
    "x_train /= 255"
   ]
  },
  {
   "cell_type": "code",
   "execution_count": 17,
   "id": "5ec42774",
   "metadata": {},
   "outputs": [],
   "source": [
    "x_test /= 255"
   ]
  },
  {
   "cell_type": "code",
   "execution_count": 18,
   "id": "68ab8e8c",
   "metadata": {},
   "outputs": [
    {
     "name": "stdout",
     "output_type": "stream",
     "text": [
      "x_train shape: (60000, 28, 28, 1)\n",
      "60000 train samples\n",
      "10000 test samples\n"
     ]
    }
   ],
   "source": [
    "print('x_train shape:', x_train.shape)\n",
    "print(x_train.shape[0], 'train samples')\n",
    "print(x_test.shape[0], 'test samples')"
   ]
  },
  {
   "cell_type": "markdown",
   "id": "0440bfcc",
   "metadata": {},
   "source": [
    "# Processing the model"
   ]
  },
  {
   "cell_type": "code",
   "execution_count": 20,
   "id": "e8224a1f",
   "metadata": {},
   "outputs": [],
   "source": [
    "batch_size = 128\n",
    "num_classes = 10\n",
    "epochs = 20"
   ]
  },
  {
   "cell_type": "code",
   "execution_count": 21,
   "id": "3ab6f092",
   "metadata": {},
   "outputs": [],
   "source": [
    "model = Sequential() "
   ]
  },
  {
   "cell_type": "code",
   "execution_count": 22,
   "id": "256e05ab",
   "metadata": {},
   "outputs": [],
   "source": [
    "# Applying convolution operation on our image by 32 filters of size 5 x 5 with the activation function relu\n",
    "\n",
    "model.add(Conv2D(32, kernel_size=(5, 5),activation='relu',input_shape=input_shape))"
   ]
  },
  {
   "cell_type": "code",
   "execution_count": 23,
   "id": "71f23b80",
   "metadata": {},
   "outputs": [],
   "source": [
    "# Applying pooling on our feature map in form of 2 x 2 to reducing the size of our feature map\n",
    "\n",
    "model.add(MaxPooling2D(pool_size=(2, 2)))"
   ]
  },
  {
   "cell_type": "code",
   "execution_count": 24,
   "id": "ce6a89ac",
   "metadata": {},
   "outputs": [],
   "source": [
    "model.add(Conv2D(64, (3, 3), activation='relu'))"
   ]
  },
  {
   "cell_type": "code",
   "execution_count": 25,
   "id": "92b290d6",
   "metadata": {},
   "outputs": [],
   "source": [
    "model.add(MaxPooling2D(pool_size=(2, 2)))"
   ]
  },
  {
   "cell_type": "code",
   "execution_count": 26,
   "id": "8bfe05f6",
   "metadata": {},
   "outputs": [],
   "source": [
    "# Flatening the output data\n",
    "\n",
    "model.add(Flatten())"
   ]
  },
  {
   "cell_type": "code",
   "execution_count": 27,
   "id": "5335326b",
   "metadata": {},
   "outputs": [],
   "source": [
    "model.add(Dense(128, activation='relu'))"
   ]
  },
  {
   "cell_type": "code",
   "execution_count": 28,
   "id": "6b264651",
   "metadata": {},
   "outputs": [],
   "source": [
    "# Ignoring randomly selected neurons\n",
    "\n",
    "model.add(Dropout(0.3))"
   ]
  },
  {
   "cell_type": "code",
   "execution_count": 29,
   "id": "13010293",
   "metadata": {},
   "outputs": [],
   "source": [
    "model.add(Dense(64, activation='relu'))"
   ]
  },
  {
   "cell_type": "code",
   "execution_count": 30,
   "id": "a6a12906",
   "metadata": {},
   "outputs": [],
   "source": [
    "model.add(Dropout(0.5))"
   ]
  },
  {
   "cell_type": "code",
   "execution_count": 31,
   "id": "b9c44d5e",
   "metadata": {},
   "outputs": [],
   "source": [
    "model.add(Dense(num_classes, activation='softmax'))"
   ]
  },
  {
   "cell_type": "code",
   "execution_count": 32,
   "id": "ca1bca87",
   "metadata": {},
   "outputs": [],
   "source": [
    "model.compile(loss='categorical_crossentropy', optimizer='rmsprop', metrics=['accuracy']) #normalization"
   ]
  },
  {
   "cell_type": "markdown",
   "id": "4a688bce",
   "metadata": {},
   "source": [
    "# Running per training set updation"
   ]
  },
  {
   "cell_type": "code",
   "execution_count": 33,
   "id": "0b1b125a",
   "metadata": {},
   "outputs": [
    {
     "name": "stdout",
     "output_type": "stream",
     "text": [
      "Epoch 1/20\n",
      "469/469 [==============================] - 104s 221ms/step - loss: 0.3560 - accuracy: 0.8913 - val_loss: 0.0664 - val_accuracy: 0.9790\n",
      "Epoch 2/20\n",
      "469/469 [==============================] - 100s 214ms/step - loss: 0.1040 - accuracy: 0.9728 - val_loss: 0.0403 - val_accuracy: 0.9877\n",
      "Epoch 3/20\n",
      "469/469 [==============================] - 99s 212ms/step - loss: 0.0733 - accuracy: 0.9823 - val_loss: 0.0335 - val_accuracy: 0.9899\n",
      "Epoch 4/20\n",
      "469/469 [==============================] - 101s 216ms/step - loss: 0.0588 - accuracy: 0.9851 - val_loss: 0.0327 - val_accuracy: 0.9899\n",
      "Epoch 5/20\n",
      "469/469 [==============================] - 101s 215ms/step - loss: 0.0507 - accuracy: 0.9871 - val_loss: 0.0295 - val_accuracy: 0.9912\n",
      "Epoch 6/20\n",
      "469/469 [==============================] - 101s 215ms/step - loss: 0.0479 - accuracy: 0.9885 - val_loss: 0.0327 - val_accuracy: 0.9903\n",
      "Epoch 7/20\n",
      "469/469 [==============================] - 107s 227ms/step - loss: 0.0415 - accuracy: 0.9899 - val_loss: 0.0329 - val_accuracy: 0.9908\n",
      "Epoch 8/20\n",
      "469/469 [==============================] - 100s 213ms/step - loss: 0.0404 - accuracy: 0.9900 - val_loss: 0.0376 - val_accuracy: 0.9899\n",
      "Epoch 9/20\n",
      "469/469 [==============================] - 100s 213ms/step - loss: 0.0402 - accuracy: 0.9907 - val_loss: 0.0378 - val_accuracy: 0.9916\n",
      "Epoch 10/20\n",
      "469/469 [==============================] - 101s 216ms/step - loss: 0.0381 - accuracy: 0.9908 - val_loss: 0.0473 - val_accuracy: 0.9906\n",
      "Epoch 11/20\n",
      "469/469 [==============================] - 104s 223ms/step - loss: 0.0461 - accuracy: 0.9898 - val_loss: 0.0404 - val_accuracy: 0.9906\n",
      "Epoch 12/20\n",
      "469/469 [==============================] - 111s 237ms/step - loss: 0.0435 - accuracy: 0.9894 - val_loss: 0.0574 - val_accuracy: 0.9899\n",
      "Epoch 13/20\n",
      "469/469 [==============================] - 114s 243ms/step - loss: 0.0451 - accuracy: 0.9894 - val_loss: 0.0696 - val_accuracy: 0.9858\n",
      "Epoch 14/20\n",
      "469/469 [==============================] - 106s 225ms/step - loss: 0.0502 - accuracy: 0.9893 - val_loss: 0.0387 - val_accuracy: 0.9912\n",
      "Epoch 15/20\n",
      "469/469 [==============================] - 106s 227ms/step - loss: 0.0522 - accuracy: 0.9890 - val_loss: 0.0490 - val_accuracy: 0.9905\n",
      "Epoch 16/20\n",
      "469/469 [==============================] - 104s 221ms/step - loss: 0.0569 - accuracy: 0.9883 - val_loss: 0.0405 - val_accuracy: 0.9894\n",
      "Epoch 17/20\n",
      "469/469 [==============================] - 102s 217ms/step - loss: 0.0584 - accuracy: 0.9877 - val_loss: 0.0380 - val_accuracy: 0.9907\n",
      "Epoch 18/20\n",
      "469/469 [==============================] - 102s 218ms/step - loss: 0.0579 - accuracy: 0.9874 - val_loss: 0.0555 - val_accuracy: 0.9907\n",
      "Epoch 19/20\n",
      "469/469 [==============================] - 107s 228ms/step - loss: 0.0633 - accuracy: 0.9872 - val_loss: 0.0392 - val_accuracy: 0.9903\n",
      "Epoch 20/20\n",
      "469/469 [==============================] - 111s 237ms/step - loss: 0.0688 - accuracy: 0.9864 - val_loss: 0.0342 - val_accuracy: 0.9909\n"
     ]
    }
   ],
   "source": [
    "hist = model.fit(x_train, y_train,batch_size=batch_size,epochs=epochs,verbose=1,validation_data=(x_test, y_test))"
   ]
  },
  {
   "cell_type": "code",
   "execution_count": 35,
   "id": "8cae411a",
   "metadata": {},
   "outputs": [
    {
     "name": "stdout",
     "output_type": "stream",
     "text": [
      "The model has successfully trained\n"
     ]
    }
   ],
   "source": [
    "print(\"The model has successfully trained\")"
   ]
  },
  {
   "cell_type": "code",
   "execution_count": 36,
   "id": "daf3e49b",
   "metadata": {},
   "outputs": [],
   "source": [
    "score = model.evaluate(x_test, y_test, verbose=0)"
   ]
  },
  {
   "cell_type": "code",
   "execution_count": 37,
   "id": "c9e0e715",
   "metadata": {},
   "outputs": [
    {
     "name": "stdout",
     "output_type": "stream",
     "text": [
      "Test loss: 0.03422193229198456\n",
      "Test accuracy: 0.9908999800682068\n"
     ]
    }
   ],
   "source": [
    "print('Test loss:', score[0])\n",
    "print('Test accuracy:', score[1])"
   ]
  },
  {
   "cell_type": "markdown",
   "id": "512e2681",
   "metadata": {},
   "source": [
    "# Saving the model"
   ]
  },
  {
   "cell_type": "code",
   "execution_count": 38,
   "id": "7b1728b2",
   "metadata": {},
   "outputs": [],
   "source": [
    "model.save('mnist.h5')"
   ]
  },
  {
   "cell_type": "code",
   "execution_count": 39,
   "id": "61b6a3ef",
   "metadata": {},
   "outputs": [
    {
     "name": "stdout",
     "output_type": "stream",
     "text": [
      "Saving the model as mnist.h5\n"
     ]
    }
   ],
   "source": [
    "print(\"Saving the model as mnist.h5\")"
   ]
  },
  {
   "cell_type": "code",
   "execution_count": null,
   "id": "99f2f942",
   "metadata": {},
   "outputs": [],
   "source": []
  }
 ],
 "metadata": {
  "kernelspec": {
   "display_name": "Python 3 (ipykernel)",
   "language": "python",
   "name": "python3"
  },
  "language_info": {
   "codemirror_mode": {
    "name": "ipython",
    "version": 3
   },
   "file_extension": ".py",
   "mimetype": "text/x-python",
   "name": "python",
   "nbconvert_exporter": "python",
   "pygments_lexer": "ipython3",
   "version": "3.8.12"
  }
 },
 "nbformat": 4,
 "nbformat_minor": 5
}
